{
 "cells": [
  {
   "cell_type": "markdown",
   "metadata": {},
   "source": [
    "# Task\n",
    "## Part 1\n",
    "Write a script that downloads tweets data on a specific search topic using the standard search API. The script should contain the following functions: \n",
    "1. scrape_tweets() that has the following parameters:\n",
    "    1. Search topic\n",
    "    2. The number of tweets to download per request\n",
    "    3. The number of requests  \n",
    "And returns a dataframe.\n",
    "2. Save_results_as_csv() that has the following parameters:\n",
    "    1.\tthe dataframe from the above function  \n",
    "    And returns a csv file with the following naming format:\n",
    "    \n",
    "    *tweets_downloaded_yymmdd_hhmmss.csv (where ‘yymmdd_hhmmss’ is the current \ttimestamp)*\n",
    "\n",
    "The following attributes of the tweets should be extracted:\n",
    "* Tweet text\n",
    "* Tweet id\n",
    "* Source\n",
    "* Coordinates\n",
    "* Retweet count\n",
    "* Likes count\n",
    "* User info\n",
    "    - Username\n",
    "    - Screenname\n",
    "    - Location\n",
    "    - Friends count\n",
    "    - Verification status\n",
    "    - Description\n",
    "    - Followers count\n",
    "\n",
    "Make sure to not include retweets.  \n",
    "Make sure you the same tweets appearing multiple times in your final csv.\n",
    "\n",
    "## Part 2\n",
    "Create a MongoDB database called Tweets_db and store the extracted tweets into a \tcollection named: raw_tweets.\n",
    "\n",
    "\n",
    "Relevant resources:  \n",
    "Twitter API docs: https://developer.twitter.com/en/docs/twitter-api/v1/tweets/search/api-reference/get-search-tweets  \n",
    "Tweepy docs: http://docs.tweepy.org/en/latest/api.html  \n",
    "Installing mongoDB locally: https://docs.mongodb.com/manual/administration/install-community/  \n",
    "Creating CRUD applications for MongoDB with python: https://www.mongodb.com/blog/post/getting-started-with-python-and-mongodb\n"
   ]
  },
  {
   "cell_type": "markdown",
   "metadata": {},
   "source": [
    "## Install Packages"
   ]
  },
  {
   "cell_type": "code",
   "execution_count": 1,
   "metadata": {
    "collapsed": true
   },
   "outputs": [
    {
     "name": "stdout",
     "output_type": "stream",
     "text": [
      "Collecting python-decouple\n",
      "  Downloading python-decouple-3.3.tar.gz (10 kB)\n",
      "Building wheels for collected packages: python-decouple\n",
      "  Building wheel for python-decouple (setup.py): started\n",
      "  Building wheel for python-decouple (setup.py): finished with status 'done'\n",
      "  Created wheel for python-decouple: filename=python_decouple-3.3-py3-none-any.whl size=9030 sha256=a7b56f452a9f0479d99b6dca04fd9b3d28f88e7599e28f0d80af5aaff3f21047\n",
      "  Stored in directory: c:\\users\\kingsley\\appdata\\local\\pip\\cache\\wheels\\8a\\01\\7f\\f40899a3f94a9e2307b6bda65b9a513a3cffaa6d3c3b6cf739\n",
      "Successfully built python-decouple\n",
      "Installing collected packages: python-decouple\n",
      "Successfully installed python-decouple-3.3\n",
      "Collecting tweepy\n",
      "  Downloading tweepy-3.9.0-py2.py3-none-any.whl (30 kB)\n",
      "Requirement already satisfied: requests[socks]>=2.11.1 in c:\\users\\kingsley\\miniconda3\\envs\\py-3.7\\lib\\site-packages (from tweepy) (2.25.0)\n",
      "Requirement already satisfied: six>=1.10.0 in c:\\users\\kingsley\\miniconda3\\envs\\py-3.7\\lib\\site-packages (from tweepy) (1.15.0)\n",
      "Collecting requests-oauthlib>=0.7.0\n",
      "  Downloading requests_oauthlib-1.3.0-py2.py3-none-any.whl (23 kB)\n",
      "Requirement already satisfied: chardet<4,>=3.0.2 in c:\\users\\kingsley\\miniconda3\\envs\\py-3.7\\lib\\site-packages (from requests[socks]>=2.11.1->tweepy) (3.0.4)\n",
      "Requirement already satisfied: certifi>=2017.4.17 in c:\\users\\kingsley\\miniconda3\\envs\\py-3.7\\lib\\site-packages (from requests[socks]>=2.11.1->tweepy) (2020.11.8)\n",
      "Requirement already satisfied: idna<3,>=2.5 in c:\\users\\kingsley\\miniconda3\\envs\\py-3.7\\lib\\site-packages (from requests[socks]>=2.11.1->tweepy) (2.10)\n",
      "Requirement already satisfied: urllib3<1.27,>=1.21.1 in c:\\users\\kingsley\\miniconda3\\envs\\py-3.7\\lib\\site-packages (from requests[socks]>=2.11.1->tweepy) (1.26.2)\n",
      "Collecting PySocks!=1.5.7,>=1.5.6; extra == \"socks\"\n",
      "  Downloading PySocks-1.7.1-py3-none-any.whl (16 kB)\n",
      "Collecting oauthlib>=3.0.0\n",
      "  Downloading oauthlib-3.1.0-py2.py3-none-any.whl (147 kB)\n",
      "Installing collected packages: oauthlib, requests-oauthlib, tweepy, PySocks\n",
      "Successfully installed PySocks-1.7.1 oauthlib-3.1.0 requests-oauthlib-1.3.0 tweepy-3.9.0\n"
     ]
    }
   ],
   "source": [
    "# Package to manipulate env file\n",
    "!pip install python-decouple\n",
    "\n",
    "# Tweepy\n",
    "!pip install tweepy"
   ]
  },
  {
   "cell_type": "markdown",
   "metadata": {},
   "source": [
    "## Import Packages"
   ]
  },
  {
   "cell_type": "code",
   "execution_count": 1,
   "metadata": {},
   "outputs": [
    {
     "name": "stdout",
     "output_type": "stream",
     "text": [
      "Packages imported successfully.\n"
     ]
    }
   ],
   "source": [
    "from decouple import config\n",
    "import tweepy\n",
    "import pandas as pd\n",
    "\n",
    "print(\"Packages imported successfully.\")"
   ]
  },
  {
   "cell_type": "markdown",
   "metadata": {},
   "source": [
    "## Retrieve API access details from .env"
   ]
  },
  {
   "cell_type": "code",
   "execution_count": 2,
   "metadata": {},
   "outputs": [
    {
     "name": "stdout",
     "output_type": "stream",
     "text": [
      "API access details retrieved successfully.\n"
     ]
    }
   ],
   "source": [
    "consumer_key = config('API-KEY')\n",
    "consumer_secret = config('API-SECRET-KEY')\n",
    "access_token = config('ACCESS-TOKEN')\n",
    "access_token_secret = config('ACCESS-TOKEN-SECRET')\n",
    "\n",
    "print(\"API access details retrieved successfully.\")"
   ]
  },
  {
   "cell_type": "markdown",
   "metadata": {},
   "source": [
    "## Authenticating User"
   ]
  },
  {
   "cell_type": "code",
   "execution_count": 3,
   "metadata": {},
   "outputs": [
    {
     "name": "stdout",
     "output_type": "stream",
     "text": [
      "Authentication successful.\n"
     ]
    }
   ],
   "source": [
    "auth = tweepy.OAuthHandler(consumer_key, consumer_secret)\n",
    "auth.set_access_token(access_token, access_token_secret)\n",
    "\n",
    "api = tweepy.API(auth, wait_on_rate_limit=True)\n",
    "\n",
    "if(not api):\n",
    "    print(\"Authentication failed!\")\n",
    "    sys.exit(-1)\n",
    "\n",
    "print(\"Authentication successful.\")"
   ]
  },
  {
   "cell_type": "markdown",
   "metadata": {},
   "source": [
    "## Scrap data and store in Dataframe"
   ]
  },
  {
   "cell_type": "code",
   "execution_count": 51,
   "metadata": {},
   "outputs": [],
   "source": [
    "def scrape_tweets(api_obj:object, query:str, tweets_per_request:int, max_requests:int):\n",
    "    tweets_df = pd.DataFrame(columns=['tweet', 'id', 'source', 'coordinates', 'retweetCount', 'likeCount', 'username', 'screenName', 'location', 'friendsCount', 'verificationStatus', 'description', 'followersCount'])\n",
    "    \n",
    "    tweets_list = []\n",
    "\n",
    "    for i in range(0, max_requests):\n",
    "        response = tweepy.Cursor(api_obj.search, q=query, lang='en', tweet_mode='extended').items(tweets_per_request)\n",
    "        \n",
    "        tweets_list = tweets_list + [tweet for tweet in response]\n",
    "\n",
    "    for tweet in tweets_list:\n",
    "        if not hasattr(tweet, 'retweeted_status'):\n",
    "            text = tweet.full_text\n",
    "            id = tweet.id\n",
    "            source = tweet.source\n",
    "            coordinates = tweet.coordinates\n",
    "            retweetCount = tweet.retweet_count\n",
    "            likeCount = tweet.user.favourites_count\n",
    "            username = tweet.user.name\n",
    "            screenName = tweet.user.screen_name\n",
    "            location = tweet.user.location\n",
    "            friends = tweet.user.friends_count\n",
    "            verification = tweet.user.verified\n",
    "            description = tweet.user.description\n",
    "            followers = tweet.user.followers_count\n",
    "\n",
    "            ith_tweet = [text, id, source, coordinates, retweetCount, likeCount, username, screenName, location, friends, verification, description, followers]\n",
    "\n",
    "            tweets_df.loc[len(tweets_df)] = ith_tweet\n",
    "\n",
    "    return tweets_df\n"
   ]
  },
  {
   "cell_type": "code",
   "execution_count": null,
   "metadata": {
    "tags": []
   },
   "outputs": [],
   "source": [
    "query = \"Messi\"\n",
    "tweets_no = 15\n",
    "max_requests = 2\n",
    "\n",
    "response = scrape_tweets(api, query, tweets_no, max_requests)\n",
    "\n",
    "print(len(response))"
   ]
  },
  {
   "cell_type": "code",
   "execution_count": 50,
   "metadata": {
    "tags": []
   },
   "outputs": [
    {
     "ename": "AttributeError",
     "evalue": "'list' object has no attribute 'head'",
     "output_type": "error",
     "traceback": [
      "\u001b[1;31m---------------------------------------------------------------------------\u001b[0m",
      "\u001b[1;31mAttributeError\u001b[0m                            Traceback (most recent call last)",
      "\u001b[1;32m<ipython-input-50-d2e946f5608b>\u001b[0m in \u001b[0;36m<module>\u001b[1;34m\u001b[0m\n\u001b[1;32m----> 1\u001b[1;33m \u001b[0mresponse\u001b[0m\u001b[1;33m.\u001b[0m\u001b[0mhead\u001b[0m\u001b[1;33m\u001b[0m\u001b[1;33m\u001b[0m\u001b[0m\n\u001b[0m",
      "\u001b[1;31mAttributeError\u001b[0m: 'list' object has no attribute 'head'"
     ]
    }
   ],
   "source": [
    "response.head  "
   ]
  },
  {
   "cell_type": "code",
   "execution_count": null,
   "metadata": {
    "collapsed": true
   },
   "outputs": [],
   "source": []
  }
 ],
 "metadata": {
  "kernelspec": {
   "display_name": "Python 3",
   "language": "python",
   "name": "python3"
  },
  "language_info": {
   "codemirror_mode": {
    "name": "ipython",
    "version": 3
   },
   "file_extension": ".py",
   "mimetype": "text/x-python",
   "name": "python",
   "nbconvert_exporter": "python",
   "pygments_lexer": "ipython3",
   "version": "3.7.9"
  }
 },
 "nbformat": 4,
 "nbformat_minor": 4
}
