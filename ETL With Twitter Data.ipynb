{
 "cells": [
  {
   "cell_type": "markdown",
   "metadata": {},
   "source": [
    "# Task\n",
    "## Part 1\n",
    "Write a script that downloads tweets data on a specific search topic using the standard search API. The script should contain the following functions: \n",
    "1. scrape_tweets() that has the following parameters:\n",
    "    1. Search topic\n",
    "    2. The number of tweets to download per request\n",
    "    3. The number of requests\n",
    "And returns a dataframe.\n",
    "2. Save_results_as_csv() that has the following parameters:\n",
    "    1.\tthe dataframe from the above function  \n",
    "    And returns a csv file with the following naming format:\n",
    "    \n",
    "    *tweets_downloaded_yymmdd_hhmmss.csv (where ‘yymmdd_hhmmss’ is the current \ttimestamp)*\n",
    "\n",
    "The following attributes of the tweets should be extracted:\n",
    "* Tweet text\n",
    "* Tweet id\n",
    "* Source\n",
    "* Coordinates\n",
    "* Retweet count\n",
    "* Likes count\n",
    "* User info\n",
    "    - Username\n",
    "    - Screenname\n",
    "    - Location\n",
    "    - Friends count\n",
    "    - Verification status\n",
    "    - Description\n",
    "    - Followers count\n",
    "\n",
    "Make sure to not include retweets.  \n",
    "Make sure you the same tweets appearing multiple times in your final csv.\n",
    "\n",
    "## Part 2\n",
    "Create a MongoDB database called Tweets_db and store the extracted tweets into a \tcollection named: raw_tweets.\n",
    "\n",
    "\n",
    "Relevant resources:\n",
    "Twitter API docs: https://developer.twitter.com/en/docs/twitter-api/v1/tweets/search/api-reference/get-search-tweets  \n",
    "Tweepy docs: http://docs.tweepy.org/en/latest/api.html  \n",
    "Installing mongoDB locally: https://docs.mongodb.com/manual/administration/install-community/  \n",
    "Creating CRUD applications for MongoDB with python: https://www.mongodb.com/blog/post/getting-started-with-python-and-mongodb\n"
   ]
  },
  {
   "cell_type": "code",
   "execution_count": null,
   "metadata": {},
   "outputs": [],
   "source": []
  }
 ],
 "metadata": {
  "kernelspec": {
   "display_name": "Python 3",
   "language": "python",
   "name": "python3"
  },
  "language_info": {
   "codemirror_mode": {
    "name": "ipython",
    "version": 3
   },
   "file_extension": ".py",
   "mimetype": "text/x-python",
   "name": "python",
   "nbconvert_exporter": "python",
   "pygments_lexer": "ipython3",
   "version": "3.7.9"
  }
 },
 "nbformat": 4,
 "nbformat_minor": 4
}
